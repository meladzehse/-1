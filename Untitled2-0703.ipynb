{
 "cells": [
  {
   "cell_type": "code",
   "execution_count": 2,
   "metadata": {},
   "outputs": [
    {
     "data": {
      "text/plain": [
       "2.0"
      ]
     },
     "execution_count": 2,
     "metadata": {},
     "output_type": "execute_result"
    }
   ],
   "source": [
    "def alala(a,b,c):\n",
    "    return((a+b+c)/3)\n",
    "k=(1,2,3)\n",
    "alala(k[0],k[1],k[2])\n",
    "alala(*k)\n"
   ]
  },
  {
   "cell_type": "code",
   "execution_count": 6,
   "metadata": {},
   "outputs": [
    {
     "ename": "SyntaxError",
     "evalue": "invalid syntax (<ipython-input-6-0e274ea3fa03>, line 1)",
     "output_type": "error",
     "traceback": [
      "\u001b[1;36m  File \u001b[1;32m\"<ipython-input-6-0e274ea3fa03>\"\u001b[1;36m, line \u001b[1;32m1\u001b[0m\n\u001b[1;33m    a{}:\u001b[0m\n\u001b[1;37m     ^\u001b[0m\n\u001b[1;31mSyntaxError\u001b[0m\u001b[1;31m:\u001b[0m invalid syntax\n"
     ]
    }
   ],
   "source": [
    "a{}\n",
    "    a[0]= \"ноль\" \n",
    "    a={0: \"ноль\"}\n",
    "    a[\"1\"]= \"целковый\"\n",
    "    a={\"1\": \"целковый\", 0:\"ноль\"}\n",
    "for b in a.values(): \n",
    "    print (b)\n",
    "    "
   ]
  },
  {
   "cell_type": "code",
   "execution_count": 8,
   "metadata": {},
   "outputs": [],
   "source": [
    "def lal(a):\n",
    "    if a== \"ноль\":\n",
    "        return(\"полушка\")\n",
    "    elif a== \"целковый\":\n",
    "        return(\"четвертушка\")\n",
    "    a= {0: \"ноль\", \"1\": \"целковый\"}\n",
    "    b={}\n",
    "    for c in a.values():\n",
    "        b[c]=lal(c)"
   ]
  },
  {
   "cell_type": "code",
   "execution_count": null,
   "metadata": {},
   "outputs": [],
   "source": []
  },
  {
   "cell_type": "code",
   "execution_count": 9,
   "metadata": {},
   "outputs": [
    {
     "ename": "SyntaxError",
     "evalue": "invalid syntax (<ipython-input-9-24fde2a54534>, line 7)",
     "output_type": "error",
     "traceback": [
      "\u001b[1;36m  File \u001b[1;32m\"<ipython-input-9-24fde2a54534>\"\u001b[1;36m, line \u001b[1;32m7\u001b[0m\n\u001b[1;33m    b1{a[c]: lal}\u001b[0m\n\u001b[1;37m      ^\u001b[0m\n\u001b[1;31mSyntaxError\u001b[0m\u001b[1;31m:\u001b[0m invalid syntax\n"
     ]
    }
   ],
   "source": [
    "def lal(a):\n",
    "    if a== \"ноль\":\n",
    "        return(\"полушка\")\n",
    "    elif a== \"целковый\":\n",
    "        return(\"четвертушка\")\n",
    "    a= {0: \"ноль\", \"1\": \"целковый\"}\n",
    "    b1{a[c]: lal}\n",
    "    "
   ]
  },
  {
   "cell_type": "code",
   "execution_count": 32,
   "metadata": {},
   "outputs": [
    {
     "name": "stdout",
     "output_type": "stream",
     "text": [
      "{'полушка', 'четвертушка'}\n"
     ]
    }
   ],
   "source": [
    "a=set([\"ноль\", \"целковый\"])\n",
    "b=set()\n",
    "b={lal(c) for c in a}\n",
    "print (b)"
   ]
  },
  {
   "cell_type": "code",
   "execution_count": null,
   "metadata": {},
   "outputs": [],
   "source": [
    "мда"
   ]
  }
 ],
 "metadata": {
  "kernelspec": {
   "display_name": "Python 3",
   "language": "python",
   "name": "python3"
  },
  "language_info": {
   "codemirror_mode": {
    "name": "ipython",
    "version": 3
   },
   "file_extension": ".py",
   "mimetype": "text/x-python",
   "name": "python",
   "nbconvert_exporter": "python",
   "pygments_lexer": "ipython3",
   "version": "3.7.4"
  }
 },
 "nbformat": 4,
 "nbformat_minor": 2
}
